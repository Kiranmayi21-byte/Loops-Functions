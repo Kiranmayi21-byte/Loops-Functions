{
 "cells": [
  {
   "cell_type": "code",
   "execution_count": 3,
   "id": "1016decd-1e01-44c3-bbda-e112fb536c3c",
   "metadata": {},
   "outputs": [],
   "source": [
    "import csv\n",
    "from datetime import datetime\n",
    "\n",
    "EXPENSES_FILE = \"expenses.csv\""
   ]
  },
  {
   "cell_type": "code",
   "execution_count": 5,
   "id": "be3141ce-cc07-475b-86df-12f7f651e6b7",
   "metadata": {},
   "outputs": [],
   "source": [
    "def add_expense(expenses):\n",
    "    category = input(\"Enter category (e.g., Food, Transport): \")\n",
    "    amount = float(input(\"Enter amount: \"))\n",
    "    description = input(\"Enter description: \")\n",
    "    date = datetime.now().strftime(\"%Y-%m-%d\")\n",
    "    expenses.append({\n",
    "        'date': date,\n",
    "        'category': category,\n",
    "        'amount': amount,\n",
    "        'description': description\n",
    "    })\n",
    "    save_expenses(expenses)\n",
    "    print(\"Expense added!\")"
   ]
  },
  {
   "cell_type": "code",
   "execution_count": 7,
   "id": "f26d66b1-6baf-4b19-b045-5cce8de7423d",
   "metadata": {},
   "outputs": [],
   "source": [
    "def view_expenses(expenses):\n",
    "    if not expenses:\n",
    "        print(\"No expenses recorded.\")\n",
    "        return\n",
    "    total = 0\n",
    "    print(\"\\nAll Expenses:\")\n",
    "    for expense in expenses:\n",
    "        print(f\"{expense['date']} - {expense['category']} - ${expense['amount']:.2f} - {expense['description']}\")\n",
    "        total += expense['amount']\n",
    "    print(f\"\\nTotal spent: ${total:.2f}\")"
   ]
  },
  {
   "cell_type": "code",
   "execution_count": 8,
   "id": "91838cb5-f0e5-4b67-8bac-0de7c308f222",
   "metadata": {},
   "outputs": [],
   "source": [
    "def view_by_category(expenses):\n",
    "    category = input(\"Enter category to view: \")\n",
    "    filtered = [e for e in expenses if e['category'].lower() == category.lower()]\n",
    "    if not filtered:\n",
    "        print(f\"No expenses found for category '{category}'.\")\n",
    "        return\n",
    "    total = sum(e['amount'] for e in filtered)\n",
    "    print(f\"\\nExpenses in category '{category}':\")\n",
    "    for e in filtered:\n",
    "        print(f\"{e['date']} - ${e['amount']:.2f} - {e['description']}\")\n",
    "    print(f\"Total: ${total:.2f}\")"
   ]
  },
  {
   "cell_type": "code",
   "execution_count": 9,
   "id": "594e36c9-7171-499c-b3da-eabd1f05cf8a",
   "metadata": {},
   "outputs": [],
   "source": [
    "def save_expenses(expenses):\n",
    "    with open(EXPENSES_FILE, mode='w', newline='') as file:\n",
    "        fieldnames = ['date', 'category', 'amount', 'description']\n",
    "        writer = csv.DictWriter(file, fieldnames=fieldnames)\n",
    "        writer.writeheader()\n",
    "        for expense in expenses:\n",
    "            writer.writerow(expense)"
   ]
  },
  {
   "cell_type": "code",
   "execution_count": 10,
   "id": "58297b99-4cec-4c1d-8534-f844611fe0e8",
   "metadata": {},
   "outputs": [],
   "source": [
    "def load_expenses():\n",
    "    expenses = []\n",
    "    try:\n",
    "        with open(EXPENSES_FILE, mode='r') as file:\n",
    "            reader = csv.DictReader(file)\n",
    "            for row in reader:\n",
    "                row['amount'] = float(row['amount'])\n",
    "                expenses.append(row)\n",
    "    except FileNotFoundError:\n",
    "        pass\n",
    "    return expenses"
   ]
  },
  {
   "cell_type": "code",
   "execution_count": 14,
   "id": "a4b1dca5-4a0f-44d3-ba5a-b4bf0add3e1c",
   "metadata": {},
   "outputs": [
    {
     "name": "stdout",
     "output_type": "stream",
     "text": [
      "\n",
      "--- Personal Expense Tracker ---\n",
      "1. Add Expense\n",
      "2. View All Expenses\n",
      "3. View Expenses by Category\n",
      "4. Exit\n"
     ]
    },
    {
     "name": "stdin",
     "output_type": "stream",
     "text": [
      "Choose an option:  2\n"
     ]
    },
    {
     "name": "stdout",
     "output_type": "stream",
     "text": [
      "No expenses recorded.\n",
      "\n",
      "--- Personal Expense Tracker ---\n",
      "1. Add Expense\n",
      "2. View All Expenses\n",
      "3. View Expenses by Category\n",
      "4. Exit\n"
     ]
    },
    {
     "name": "stdin",
     "output_type": "stream",
     "text": [
      "Choose an option:  3\n",
      "Enter category to view:  food\n"
     ]
    },
    {
     "name": "stdout",
     "output_type": "stream",
     "text": [
      "No expenses found for category 'food'.\n",
      "\n",
      "--- Personal Expense Tracker ---\n",
      "1. Add Expense\n",
      "2. View All Expenses\n",
      "3. View Expenses by Category\n",
      "4. Exit\n"
     ]
    },
    {
     "name": "stdin",
     "output_type": "stream",
     "text": [
      "Choose an option:  1\n",
      "Enter category (e.g., Food, Transport):  food\n",
      "Enter amount:  1300\n",
      "Enter description:  lunch with family\n"
     ]
    },
    {
     "name": "stdout",
     "output_type": "stream",
     "text": [
      "Expense added!\n",
      "\n",
      "--- Personal Expense Tracker ---\n",
      "1. Add Expense\n",
      "2. View All Expenses\n",
      "3. View Expenses by Category\n",
      "4. Exit\n"
     ]
    },
    {
     "name": "stdin",
     "output_type": "stream",
     "text": [
      "Choose an option:  2\n"
     ]
    },
    {
     "name": "stdout",
     "output_type": "stream",
     "text": [
      "\n",
      "All Expenses:\n",
      "2025-07-30 - food - $1300.00 - lunch with family\n",
      "\n",
      "Total spent: $1300.00\n",
      "\n",
      "--- Personal Expense Tracker ---\n",
      "1. Add Expense\n",
      "2. View All Expenses\n",
      "3. View Expenses by Category\n",
      "4. Exit\n"
     ]
    },
    {
     "name": "stdin",
     "output_type": "stream",
     "text": [
      "Choose an option:  4\n"
     ]
    }
   ],
   "source": [
    "def main():\n",
    "    expenses = load_expenses()\n",
    "    while True:\n",
    "        print(\"\\n--- Personal Expense Tracker ---\")\n",
    "        print(\"1. Add Expense\")\n",
    "        print(\"2. View All Expenses\")\n",
    "        print(\"3. View Expenses by Category\")\n",
    "        print(\"4. Exit\")\n",
    "        choice = input(\"Choose an option: \")\n",
    "\n",
    "        if choice == '1':\n",
    "            add_expense(expenses)\n",
    "        elif choice == '2':\n",
    "            view_expenses(expenses)\n",
    "        elif choice == '3':\n",
    "            view_by_category(expenses)\n",
    "        elif choice == '4':\n",
    "            break\n",
    "        else:\n",
    "            print(\"Invalid option.\")\n",
    "if __name__ == \"__main__\":\n",
    "    main()"
   ]
  },
  {
   "cell_type": "code",
   "execution_count": null,
   "id": "2bdebac3-ad01-44f5-bd0b-be62e39de323",
   "metadata": {},
   "outputs": [],
   "source": []
  }
 ],
 "metadata": {
  "kernelspec": {
   "display_name": "Python 3 (ipykernel)",
   "language": "python",
   "name": "python3"
  },
  "language_info": {
   "codemirror_mode": {
    "name": "ipython",
    "version": 3
   },
   "file_extension": ".py",
   "mimetype": "text/x-python",
   "name": "python",
   "nbconvert_exporter": "python",
   "pygments_lexer": "ipython3",
   "version": "3.13.5"
  }
 },
 "nbformat": 4,
 "nbformat_minor": 5
}
