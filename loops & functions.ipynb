{
 "cells": [
  {
   "cell_type": "code",
   "execution_count": 10,
   "id": "73035d8c-1d2d-4cc4-8fa0-0c3b0d13bb38",
   "metadata": {},
   "outputs": [
    {
     "name": "stdin",
     "output_type": "stream",
     "text": [
      "Nationality: Indian\n"
     ]
    },
    {
     "name": "stdout",
     "output_type": "stream",
     "text": [
      "Andhrapradesh\n"
     ]
    }
   ],
   "source": [
    "inp = input(\"Nationality:\")\n",
    "if inp == \"Indian\" :\n",
    "    print(\"Andhrapradesh\")"
   ]
  },
  {
   "cell_type": "code",
   "execution_count": 13,
   "id": "92c92f14-998c-4ae5-bbe6-237c0e85e4b6",
   "metadata": {},
   "outputs": [
    {
     "name": "stdout",
     "output_type": "stream",
     "text": [
      "x is greater\n",
      "Hello\n"
     ]
    }
   ],
   "source": [
    "# if statement\n",
    "x=40\n",
    "y=20\n",
    "if (x>y):\n",
    "    print(\"x is greater\")\n",
    "    print(\"Hello\")"
   ]
  },
  {
   "cell_type": "code",
   "execution_count": 15,
   "id": "3d04e493-6446-4654-8f0d-af7a15262e51",
   "metadata": {},
   "outputs": [
    {
     "name": "stdout",
     "output_type": "stream",
     "text": [
      "y is greater\n",
      "world\n"
     ]
    }
   ],
   "source": [
    "# if else statement\n",
    "x=10\n",
    "y=20\n",
    "if (x>y):\n",
    "    print(\"x is greater\")\n",
    "    print(\"Hello\")\n",
    "else:\n",
    "    print(\"y is greater\")\n",
    "    print(\"world\")\n",
    "    "
   ]
  },
  {
   "cell_type": "code",
   "execution_count": 1,
   "id": "aebe72b7-23a3-4b76-adcd-52fe116d9b86",
   "metadata": {},
   "outputs": [
    {
     "name": "stdin",
     "output_type": "stream",
     "text": [
      "Enter number 0\n"
     ]
    },
    {
     "name": "stdout",
     "output_type": "stream",
     "text": [
      "0 is zero\n",
      "None\n"
     ]
    }
   ],
   "source": [
    "# if elif else statement\n",
    "num= int(input(\"Enter number\"))\n",
    "if (num>0):\n",
    "    print(\"{} is positive\".format(num))\n",
    "elif (num<0):\n",
    "    print(\"{} is negative\".format(num))\n",
    "else:\n",
    "    print( print(\"{} is zero\".format(num)))\n",
    "\n",
    "         \n",
    "         "
   ]
  },
  {
   "cell_type": "markdown",
   "id": "200e6293-3a58-4d8f-b452-90a4e0393c2e",
   "metadata": {},
   "source": [
    "## Functions"
   ]
  },
  {
   "cell_type": "code",
   "execution_count": 21,
   "id": "44b9329f-d94a-4bdb-a182-3e15cfc8d140",
   "metadata": {},
   "outputs": [
    {
     "name": "stdout",
     "output_type": "stream",
     "text": [
      "30\n"
     ]
    }
   ],
   "source": [
    "# Function is a block of code which perform a particular task\n",
    "# built in functions like append(), remove(), format(), len(tup)\n",
    "# user defined functions\n",
    "\n",
    "Three components of fun programm\n",
    "\n",
    "def area(len,brd):       #function header has the name & input parameters\n",
    "    area= len*brd\n",
    "    print(area)          # Body of the function\n",
    "\n",
    "#Func has to be called\n",
    "area(10, 3)              #Function call"
   ]
  },
  {
   "cell_type": "code",
   "execution_count": 2,
   "id": "62641c11-e458-4296-9cc1-834631d2ffbd",
   "metadata": {},
   "outputs": [
    {
     "name": "stdout",
     "output_type": "stream",
     "text": [
      "25\n"
     ]
    }
   ],
   "source": [
    "def square(x):\n",
    "    val=x*x\n",
    "    print(val)\n",
    "\n",
    "square(5)\n"
   ]
  },
  {
   "cell_type": "code",
   "execution_count": 7,
   "id": "9525eeb3-f37c-4a70-ad65-14cbc5beb53c",
   "metadata": {},
   "outputs": [
    {
     "name": "stdin",
     "output_type": "stream",
     "text": [
      "Enter length 10\n",
      "Enter bradth 5\n"
     ]
    },
    {
     "name": "stdout",
     "output_type": "stream",
     "text": [
      "area= 50\n",
      "perimeter = 30\n"
     ]
    }
   ],
   "source": [
    "## A good way to define a function is to use a return statement\n",
    "## function to be calculated of area and perimeter of rectangle\n",
    "\n",
    "def area(len, bdt):\n",
    "    area= len* bdt\n",
    "    print(\"area=\", area)\n",
    "\n",
    "def perm(len, bdt):\n",
    "    perimeter= 2*len+ 2*bdt\n",
    "    print(\"perimeter =\", perimeter)\n",
    "\n",
    "l= int(input(\"Enter length\"))\n",
    "b= int(input(\"Enter bradth\"))\n",
    "\n",
    "area(l,b)\n",
    "perm(l,b)\n",
    "\n"
   ]
  },
  {
   "cell_type": "code",
   "execution_count": null,
   "id": "a818019f-4a87-42cb-a658-e9cc800a6f9f",
   "metadata": {},
   "outputs": [],
   "source": []
  }
 ],
 "metadata": {
  "kernelspec": {
   "display_name": "Python 3 (ipykernel)",
   "language": "python",
   "name": "python3"
  },
  "language_info": {
   "codemirror_mode": {
    "name": "ipython",
    "version": 3
   },
   "file_extension": ".py",
   "mimetype": "text/x-python",
   "name": "python",
   "nbconvert_exporter": "python",
   "pygments_lexer": "ipython3",
   "version": "3.13.5"
  }
 },
 "nbformat": 4,
 "nbformat_minor": 5
}
