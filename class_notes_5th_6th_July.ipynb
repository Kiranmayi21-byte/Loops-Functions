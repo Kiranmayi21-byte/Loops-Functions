{
 "cells": [
  {
   "cell_type": "markdown",
   "id": "6fc5e365",
   "metadata": {},
   "source": [
    "## Slide 12: Python Features"
   ]
  },
  {
   "cell_type": "code",
   "execution_count": 6,
   "id": "426171cd",
   "metadata": {},
   "outputs": [
    {
     "name": "stdout",
     "output_type": "stream",
     "text": [
      "12.45\n"
     ]
    },
    {
     "ename": "NameError",
     "evalue": "name 'Y' is not defined",
     "output_type": "error",
     "traceback": [
      "\u001b[1;31m---------------------------------------------------------------------------\u001b[0m",
      "\u001b[1;31mNameError\u001b[0m                                 Traceback (most recent call last)",
      "\u001b[1;32m~\\AppData\\Local\\Temp\\ipykernel_10284\\571547274.py\u001b[0m in \u001b[0;36m<module>\u001b[1;34m\u001b[0m\n\u001b[0;32m      3\u001b[0m \u001b[0mprint\u001b[0m\u001b[1;33m(\u001b[0m\u001b[0mx\u001b[0m\u001b[1;33m)\u001b[0m\u001b[1;33m\u001b[0m\u001b[1;33m\u001b[0m\u001b[0m\n\u001b[0;32m      4\u001b[0m \u001b[0my\u001b[0m\u001b[1;33m=\u001b[0m\u001b[1;36m12\u001b[0m\u001b[1;33m\u001b[0m\u001b[1;33m\u001b[0m\u001b[0m\n\u001b[1;32m----> 5\u001b[1;33m \u001b[0mprint\u001b[0m\u001b[1;33m(\u001b[0m\u001b[0mY\u001b[0m\u001b[1;33m)\u001b[0m\u001b[1;33m\u001b[0m\u001b[1;33m\u001b[0m\u001b[0m\n\u001b[0m",
      "\u001b[1;31mNameError\u001b[0m: name 'Y' is not defined"
     ]
    }
   ],
   "source": [
    "# line by line execution\n",
    "x=12.45\n",
    "print(x)\n",
    "y=12\n",
    "print(Y) \n",
    "\n",
    "#inspite of error in last statement first 3 statements are executed"
   ]
  },
  {
   "cell_type": "code",
   "execution_count": null,
   "id": "cfddb926",
   "metadata": {},
   "outputs": [],
   "source": [
    "## Dynamic typing\n",
    "x=12 ## we dont have to say \n",
    "\n",
    "int x \n",
    "x=12 as in other programming languages\n"
   ]
  },
  {
   "cell_type": "code",
   "execution_count": 135,
   "id": "24efc3c7",
   "metadata": {},
   "outputs": [
    {
     "name": "stdout",
     "output_type": "stream",
     "text": [
      "<class 'int'>\n"
     ]
    }
   ],
   "source": [
    "x=12   # x is an integer\n",
    "print(type(x))"
   ]
  },
  {
   "cell_type": "code",
   "execution_count": 136,
   "id": "166770c7",
   "metadata": {},
   "outputs": [
    {
     "name": "stdout",
     "output_type": "stream",
     "text": [
      "<class 'str'>\n"
     ]
    }
   ],
   "source": [
    "## we can change the type of x dynamically\n",
    "x=\"hello\"\n",
    "print(type(x))"
   ]
  },
  {
   "cell_type": "code",
   "execution_count": 137,
   "id": "af93ae03",
   "metadata": {},
   "outputs": [
    {
     "data": {
      "image/png": "[encoded data removed]",
      "text/plain": [
       "<Figure size 640x480 with 1 Axes>"
      ]
     },
     "metadata": {},
     "output_type": "display_data"
    }
   ],
   "source": [
    "## Extensive set of libraries\n",
    "## we use one of the libraries matplotlib to get a graph \n",
    "import matplotlib.pyplot as plt\n",
    "x=[0,2,4,6,8,10]\n",
    "plt.plot(x)\n",
    "plt.show()"
   ]
  },
  {
   "cell_type": "markdown",
   "id": "ffce1962",
   "metadata": {},
   "source": [
    "## Slide 24: Type conversion"
   ]
  },
  {
   "cell_type": "code",
   "execution_count": null,
   "id": "cab21b45",
   "metadata": {},
   "outputs": [],
   "source": [
    "# Implicit type conversion\n",
    "x=10    #integer\n",
    "y=12.56   #float\n",
    "print(x+y)    #x=10.00\n",
    "\n",
    "# Integer has been converetd to a float to carry out the addition\n",
    "# This is done automatically by the interpreter\n",
    "# Hence this is called Implicit type conversion"
   ]
  },
  {
   "cell_type": "code",
   "execution_count": null,
   "id": "f367099d",
   "metadata": {},
   "outputs": [],
   "source": [
    "# Explicit type conversion\n",
    "X=12.45\n",
    "print(type(X))\n",
    "y=int(X)        # here we are converting float to int\n",
    "print(y)\n",
    "print(type(x))\n",
    "\n",
    "#explicit type conversion"
   ]
  },
  {
   "cell_type": "code",
   "execution_count": null,
   "id": "8a3ee411",
   "metadata": {},
   "outputs": [],
   "source": [
    "# explicit type conversion\n",
    "x=124\n",
    "s=str(x)     # we are converting an integer to string\n",
    "type(str(x))\n",
    "print(s)"
   ]
  },
  {
   "cell_type": "markdown",
   "id": "896b0608",
   "metadata": {},
   "source": [
    "## Slide 28  Lists\n",
    "* what are they\n",
    "* how we access elements (slicing indexing)\n",
    "* mutability\n",
    "* how we modify elements  \n",
    "* how we add or remove elements\n",
    "How to check the presence or absence of an element (membership operator)\n"
   ]
  },
  {
   "cell_type": "code",
   "execution_count": 8,
   "id": "4bf772d5",
   "metadata": {},
   "outputs": [
    {
     "name": "stdout",
     "output_type": "stream",
     "text": [
      "[10, 20, 30, 40, 50] ['24', 45, 'hello', 53.75, (2+3j), True]\n"
     ]
    }
   ],
   "source": [
    "# they store values of same types\n",
    "ls1=[10,20,30,40,50]      # list of numbers\n",
    "# we can also have mixed types\n",
    "ls2=[\"24\", 45, \"hello\", 53.75, 2+3j, True]   # list of different data types\n",
    "print(ls1, ls2)"
   ]
  },
  {
   "cell_type": "code",
   "execution_count": 16,
   "id": "ad090326",
   "metadata": {},
   "outputs": [
    {
     "data": {
      "text/plain": [
       "[20, 30]"
      ]
     },
     "execution_count": 16,
     "metadata": {},
     "output_type": "execute_result"
    }
   ],
   "source": [
    "#  access elements is a list using indexing\n",
    "# positive indwxinhg\n",
    "ls1[1]\n",
    "ls1[4]\n",
    "\n",
    "#negative indexing\n",
    "ls1[-1]    # last element in the list\n",
    "ls1[-2]\n",
    "ls1[-5]\n",
    "\n",
    "# Subset of the list \n",
    "# Slicing  lis[start:stop:step]\n",
    "ls1[1:3]    # start with 1 and end with stop-1"
   ]
  },
  {
   "cell_type": "code",
   "execution_count": 21,
   "id": "fd93405e",
   "metadata": {},
   "outputs": [
    {
     "data": {
      "text/plain": [
       "[10, 20, 30, 400, 50]"
      ]
     },
     "execution_count": 21,
     "metadata": {},
     "output_type": "execute_result"
    }
   ],
   "source": [
    "# Slicing more examples\n",
    "ls1[1:4]\n",
    "ls1[:4]\n",
    "\n",
    "\n",
    "# Negative slicing\n",
    "\n",
    "ls1[1:4:2]\n",
    "\n",
    "# list elements can be modified/update\n",
    "# list is mutable data type\n",
    "\n",
    "ls1[3]=400\n",
    "ls1"
   ]
  },
  {
   "cell_type": "code",
   "execution_count": 22,
   "id": "3087b759",
   "metadata": {},
   "outputs": [
    {
     "name": "stdout",
     "output_type": "stream",
     "text": [
      "[10, 20, 30, 400, 50, 70]\n"
     ]
    }
   ],
   "source": [
    "## append and remove\n",
    "ls1.append(70)\n",
    "print(ls1)"
   ]
  },
  {
   "cell_type": "code",
   "execution_count": 26,
   "id": "91a47618",
   "metadata": {},
   "outputs": [
    {
     "name": "stdout",
     "output_type": "stream",
     "text": [
      "[10, 20, 30, 50, 70]\n"
     ]
    },
    {
     "data": {
      "text/plain": [
       "[10, 20, 30, 70]"
      ]
     },
     "execution_count": 26,
     "metadata": {},
     "output_type": "execute_result"
    }
   ],
   "source": [
    "print(ls1)\n",
    "ls1.remove(50)\n",
    "ls1"
   ]
  },
  {
   "cell_type": "code",
   "execution_count": 138,
   "id": "a69500ba",
   "metadata": {},
   "outputs": [
    {
     "name": "stdout",
     "output_type": "stream",
     "text": [
      "[10, 20, 30, 70] ['24', 45, 'hello', 53.75, (2+3j), True]\n"
     ]
    },
    {
     "data": {
      "text/plain": [
       "[10, 20, 30, 70, 10, 20, 30, 70]"
      ]
     },
     "execution_count": 138,
     "metadata": {},
     "output_type": "execute_result"
    }
   ],
   "source": [
    "# List methods\n",
    "print(ls1, ls2)\n",
    "ls1+ls2\n",
    "\n",
    "ls1\n",
    "\n",
    "ls1*2"
   ]
  },
  {
   "cell_type": "code",
   "execution_count": 140,
   "id": "5e5db107",
   "metadata": {},
   "outputs": [
    {
     "name": "stdout",
     "output_type": "stream",
     "text": [
      "[10, 20, 30, 40, 50]\n",
      "True\n",
      "False\n",
      "True\n"
     ]
    }
   ],
   "source": [
    "## To check whether an itme is present in the list\n",
    "# we use the membership operator\n",
    "ls1=[10,20,30,40,50]\n",
    "print(ls1)\n",
    "\n",
    "## Memebership operators are in and not in\n",
    "print(40 in ls1)    # checks whether 40is an item in ls1\n",
    "print(100 in ls1)\n",
    "print(100 not in ls1)"
   ]
  },
  {
   "cell_type": "code",
   "execution_count": 29,
   "id": "2e79745f",
   "metadata": {},
   "outputs": [
    {
     "name": "stdout",
     "output_type": "stream",
     "text": [
      "10 20 53.75 True\n",
      "50 40 10\n",
      "True 53.75 hello\n",
      "[10, 20, 30, 400, 50]\n",
      "[10, 20, 30, 400, 50, 70]\n",
      "[10, 20, 400, 50, 70]\n",
      "[10, 20, 400, 50, 70, '24', 45, 'hello', 53.75, (2+3j), True]\n",
      "[10, 20, 400, 50, 70, 10, 20, 400, 50, 70]\n"
     ]
    }
   ],
   "source": [
    "# they store values of different types\n",
    "ls1=[10,20,30,40,50]\n",
    "# we can also have mixed types\n",
    "ls2=[\"24\", 45, \"hello\", 53.75, 2+3j, True]\n",
    "\n",
    "# we can access elements using indexing and slicing\n",
    "print(ls1[0], ls1[1], ls2[3], ls2[5])\n",
    "\n",
    "# Negative indexing\n",
    "print(ls1[-1], ls1[-2], ls1[-5])\n",
    "print(ls2[-1], ls2[-3], ls2[-4])\n",
    "# We can add change or remove elements\n",
    "ls1[3]=400\n",
    "print(ls1)\n",
    "\n",
    "ls1.append(70)\n",
    "print(ls1)\n",
    "\n",
    "ls1.remove(30)\n",
    "print(ls1)\n",
    "\n",
    "# we can add and concatenate lists\n",
    "print(ls1+ls2)\n",
    "\n",
    "# #list repition\n",
    "print(ls1*2)"
   ]
  },
  {
   "cell_type": "code",
   "execution_count": null,
   "id": "35908d15",
   "metadata": {},
   "outputs": [],
   "source": [
    "# Python provides built in methods for manipulating lists\n",
    "#insert() remove() append() and extend()\n"
   ]
  },
  {
   "cell_type": "markdown",
   "id": "0a5a6baf",
   "metadata": {},
   "source": [
    "## Slide 29 Tuples\n",
    "** A tuple is generally used to store informtaion about a particular item like a record or row in a table\n",
    "** Tuples  are memeory efficient and are suitable for storing a fixed sequence of values"
   ]
  },
  {
   "cell_type": "code",
   "execution_count": 33,
   "id": "6e4354d2",
   "metadata": {},
   "outputs": [
    {
     "name": "stdout",
     "output_type": "stream",
     "text": [
      "('Python Programming', 'Francis', 1971)\n",
      "3\n"
     ]
    }
   ],
   "source": [
    "book1=(\"Python Programming\",\"Francis\", 1971)\n",
    "book2=(\"C programming\", \"Kanetkar\", 1965)\n",
    "print(book1)\n",
    "print(len(book1))"
   ]
  },
  {
   "cell_type": "code",
   "execution_count": 35,
   "id": "3855dd71",
   "metadata": {},
   "outputs": [
    {
     "name": "stdout",
     "output_type": "stream",
     "text": [
      "Python Programming Francis 1971\n"
     ]
    }
   ],
   "source": [
    "# we can access elements using indexing and slicing\n",
    "print(book1[0], book1[1], book1[2])\n"
   ]
  },
  {
   "cell_type": "code",
   "execution_count": 36,
   "id": "f0525b12",
   "metadata": {},
   "outputs": [
    {
     "name": "stdout",
     "output_type": "stream",
     "text": [
      "1971 Kanetkar\n",
      "('Python Programming', 'Francis')\n"
     ]
    }
   ],
   "source": [
    "## Negative indexing\n",
    "print(book1[-1], book2[-2])\n",
    "\n",
    "#Slicing\n",
    "print(book1[:2])"
   ]
  },
  {
   "cell_type": "code",
   "execution_count": 32,
   "id": "85a5e462",
   "metadata": {},
   "outputs": [
    {
     "name": "stdout",
     "output_type": "stream",
     "text": [
      "Python Programming 1965\n",
      "1971 Kanetkar\n"
     ]
    },
    {
     "ename": "TypeError",
     "evalue": "'tuple' object does not support item assignment",
     "output_type": "error",
     "traceback": [
      "\u001b[1;31m---------------------------------------------------------------------------\u001b[0m",
      "\u001b[1;31mTypeError\u001b[0m                                 Traceback (most recent call last)",
      "\u001b[1;32m~\\AppData\\Local\\Temp\\ipykernel_44628\\2861431902.py\u001b[0m in \u001b[0;36m<module>\u001b[1;34m\u001b[0m\n\u001b[0;32m      6\u001b[0m \u001b[1;33m\u001b[0m\u001b[0m\n\u001b[0;32m      7\u001b[0m \u001b[1;31m# We cannot add change or remove elements\u001b[0m\u001b[1;33m\u001b[0m\u001b[1;33m\u001b[0m\u001b[0m\n\u001b[1;32m----> 8\u001b[1;33m \u001b[0mbook1\u001b[0m\u001b[1;33m[\u001b[0m\u001b[1;36m1\u001b[0m\u001b[1;33m]\u001b[0m\u001b[1;33m=\u001b[0m\u001b[1;34m\"Rossum\"\u001b[0m\u001b[1;33m\u001b[0m\u001b[1;33m\u001b[0m\u001b[0m\n\u001b[0m\u001b[0;32m      9\u001b[0m \u001b[0mprint\u001b[0m\u001b[1;33m(\u001b[0m\u001b[0mbook1\u001b[0m\u001b[1;33m)\u001b[0m\u001b[1;33m\u001b[0m\u001b[1;33m\u001b[0m\u001b[0m\n",
      "\u001b[1;31mTypeError\u001b[0m: 'tuple' object does not support item assignment"
     ]
    }
   ],
   "source": [
    "# We cannot add change or remove elements\n",
    "book1[1]=\"Rossum\"\n",
    "print(book1)"
   ]
  },
  {
   "cell_type": "code",
   "execution_count": 33,
   "id": "96d50ed7",
   "metadata": {},
   "outputs": [
    {
     "name": "stdout",
     "output_type": "stream",
     "text": [
      "('Python Programming', 'Francis', 1971, 'C programming', 'Kanetkar', 1965)\n",
      "('Python Programming', 'Francis', 1971, 'Python Programming', 'Francis', 1971)\n"
     ]
    }
   ],
   "source": [
    "# we can add and concatenate yuples\n",
    "print(book1+book2)\n",
    "\n",
    "# #tuple repition\n",
    "print(book1*2)"
   ]
  },
  {
   "cell_type": "code",
   "execution_count": 38,
   "id": "e86ea648",
   "metadata": {},
   "outputs": [
    {
     "ename": "TypeError",
     "evalue": "'tuple' object does not support item assignment",
     "output_type": "error",
     "traceback": [
      "\u001b[1;31m---------------------------------------------------------------------------\u001b[0m",
      "\u001b[1;31mTypeError\u001b[0m                                 Traceback (most recent call last)",
      "\u001b[1;32m~\\AppData\\Local\\Temp\\ipykernel_10284\\1546497620.py\u001b[0m in \u001b[0;36m<module>\u001b[1;34m\u001b[0m\n\u001b[0;32m      1\u001b[0m \u001b[1;31m# A tuple is immutable\u001b[0m\u001b[1;33m\u001b[0m\u001b[1;33m\u001b[0m\u001b[0m\n\u001b[0;32m      2\u001b[0m \u001b[1;31m# Update /modify the value :Francis \" to John\"\u001b[0m\u001b[1;33m\u001b[0m\u001b[1;33m\u001b[0m\u001b[0m\n\u001b[1;32m----> 3\u001b[1;33m \u001b[0mbook1\u001b[0m\u001b[1;33m[\u001b[0m\u001b[1;36m1\u001b[0m\u001b[1;33m]\u001b[0m\u001b[1;33m=\u001b[0m\u001b[1;34m\"john\"\u001b[0m\u001b[1;33m\u001b[0m\u001b[1;33m\u001b[0m\u001b[0m\n\u001b[0m",
      "\u001b[1;31mTypeError\u001b[0m: 'tuple' object does not support item assignment"
     ]
    }
   ],
   "source": [
    "# A tuple is immutable\n",
    "# Update /modify the value :Francis \" to John\"\n",
    "book1[1]=\"john\""
   ]
  },
  {
   "cell_type": "markdown",
   "id": "05d6cd85",
   "metadata": {},
   "source": [
    "## Slide 30 Sets\n",
    "** an unordered collection of distinct items here elemnets are enclosed in braces\n",
    "** since it is unordered it does not have indexing and slicing operation"
   ]
  },
  {
   "cell_type": "code",
   "execution_count": 141,
   "id": "2b5aa464",
   "metadata": {},
   "outputs": [
    {
     "name": "stdout",
     "output_type": "stream",
     "text": [
      "{'Hello', 2, 3, 4, 5}\n",
      "{'Hello', 2, 3, 4, 5, 34}\n",
      "{'Hello', 2, 3, 4, 34}\n",
      "True\n",
      "False\n",
      "True\n"
     ]
    }
   ],
   "source": [
    "# We can add change or remove elements to a set\n",
    "st1={2,3,4,5, \"Hello\"}\n",
    "print(st1)\n",
    "\n",
    "st1.add(34)\n",
    "print(st1)\n",
    "\n",
    "st1.remove(5)\n",
    "print(st1)\n",
    "\n",
    "## we cannot acces individual elements in the set\n",
    "\n",
    "## we can rather check whether a particular item is present in  the set\n",
    "\n",
    "# membership operator  (in , not in)\n",
    "print(4 in st1)\n",
    "\n",
    "print(500 in st1)\n",
    "print(\"hello\" not in st1)"
   ]
  },
  {
   "cell_type": "markdown",
   "id": "89621720",
   "metadata": {},
   "source": [
    "## Slide 31 Dictionary\n"
   ]
  },
  {
   "cell_type": "code",
   "execution_count": 40,
   "id": "86d82445",
   "metadata": {},
   "outputs": [
    {
     "data": {
      "text/plain": [
       "('Python Programming', 'Francis', 1971, 560)"
      ]
     },
     "execution_count": 40,
     "metadata": {},
     "output_type": "execute_result"
    }
   ],
   "source": [
    "book1=(\"Python Programming\",\"Francis\", 1971, 560)\n",
    "book1"
   ]
  },
  {
   "cell_type": "code",
   "execution_count": 84,
   "id": "ec8bdf11",
   "metadata": {},
   "outputs": [
    {
     "name": "stdout",
     "output_type": "stream",
     "text": [
      "560 Francis\n",
      "{'b_name': 'Python Programming', 'author': 'Francis', 'year': 1971, 'pages': 560}\n",
      "dict_keys(['b_name', 'author', 'year', 'pages'])\n",
      "dict_values(['Python Programming', 'Francis', 1971, 560])\n",
      "{'b_name': 'Python Programming', 'author': 'Francis', 'year': 1971, 'pages': 400}\n"
     ]
    }
   ],
   "source": [
    "# dictionary\n",
    "# key value pair\n",
    "book1={\"b_name\":\"Python Programming\", \"author\": \"Francis\", \"year\":1971, \"pages\":560}\n",
    "\n",
    "# access the elements of a dictionary using a key\n",
    "print(book1[\"pages\"], book1[\"author\"])\n",
    "\n",
    "print(book1)\n",
    "print(book1.keys())\n",
    "print(book1.values())\n",
    "\n",
    "\n",
    "# Mutability\n",
    "book1[\"pages\"]=400\n",
    "\n",
    "print(book1)"
   ]
  },
  {
   "cell_type": "code",
   "execution_count": 85,
   "id": "6e1308be",
   "metadata": {},
   "outputs": [
    {
     "name": "stdout",
     "output_type": "stream",
     "text": [
      "True\n"
     ]
    }
   ],
   "source": [
    "## membership in a dictionary\n",
    "print(\"pages\" in book1)"
   ]
  },
  {
   "cell_type": "code",
   "execution_count": 39,
   "id": "ad30aa4a",
   "metadata": {},
   "outputs": [
    {
     "name": "stdout",
     "output_type": "stream",
     "text": [
      "{'Apples': 'red', 'Bananas': 'yellow', 'Grapes': 'green'}\n"
     ]
    },
    {
     "data": {
      "text/plain": [
       "'red'"
      ]
     },
     "execution_count": 39,
     "metadata": {},
     "output_type": "execute_result"
    }
   ],
   "source": [
    "fruits={\"Apples\":\"red\", \"Bananas\":\"yellow\", \"Grapes\":\"green\"}\n",
    "print(fruits)\n",
    "\n",
    "# Dict elements are accessed with a key\n",
    "fruits[\"Apples\"]"
   ]
  },
  {
   "cell_type": "code",
   "execution_count": 47,
   "id": "632d9e16",
   "metadata": {},
   "outputs": [
    {
     "name": "stdout",
     "output_type": "stream",
     "text": [
      "True\n"
     ]
    }
   ],
   "source": [
    "print(\"Apples\" in fruits)"
   ]
  },
  {
   "cell_type": "code",
   "execution_count": 46,
   "id": "b5ff253c",
   "metadata": {},
   "outputs": [
    {
     "name": "stdout",
     "output_type": "stream",
     "text": [
      "dict_keys(['Apples', 'Bananas', 'Grapes'])\n",
      "dict_values(['red', 'yellow', 'red'])\n"
     ]
    },
    {
     "data": {
      "text/plain": [
       "{'Apples': 'red', 'Bananas': 'yellow', 'Grapes': 'red'}"
      ]
     },
     "execution_count": 46,
     "metadata": {},
     "output_type": "execute_result"
    }
   ],
   "source": [
    "print(fruits.keys())\n",
    "print(fruits.values())\n",
    "\n",
    "## Modifying or updating an element with key\n",
    "## Dibtionary is mutable . updation ov values is allowed\n",
    "fruits[\"Grapes\"] = \"red\"\n",
    "\n",
    "fruits"
   ]
  },
  {
   "cell_type": "code",
   "execution_count": 86,
   "id": "6aeb744f",
   "metadata": {},
   "outputs": [
    {
     "data": {
      "text/plain": [
       "'This is way to give multiline\\ncomments in Python'"
      ]
     },
     "execution_count": 86,
     "metadata": {},
     "output_type": "execute_result"
    }
   ],
   "source": [
    "## Slide 35 Comments in Python\n",
    "\n",
    "# This is a single line comment\n",
    "\n",
    "# Multiline commnents are enclosed in tripe quotes\n",
    "\"\"\"This is way to give multiline\n",
    "comments in Python\"\"\""
   ]
  },
  {
   "cell_type": "code",
   "execution_count": null,
   "id": "725c362d",
   "metadata": {},
   "outputs": [],
   "source": []
  },
  {
   "cell_type": "markdown",
   "id": "ef2848a3",
   "metadata": {},
   "source": [
    "## Markdown cell\n",
    "### Slide 49 Strings"
   ]
  },
  {
   "cell_type": "code",
   "execution_count": 88,
   "id": "a26185fc",
   "metadata": {},
   "outputs": [],
   "source": [
    "## Slide 51 String functions\n",
    "sr1=\"python is a popular Language\"\n",
    "sr2=\"Python is easy\""
   ]
  },
  {
   "cell_type": "code",
   "execution_count": 89,
   "id": "c19493d4",
   "metadata": {},
   "outputs": [
    {
     "data": {
      "text/plain": [
       "'Python is a popular language'"
      ]
     },
     "execution_count": 89,
     "metadata": {},
     "output_type": "execute_result"
    }
   ],
   "source": [
    "sr1.capitalize()"
   ]
  },
  {
   "cell_type": "code",
   "execution_count": 58,
   "id": "74bb6000",
   "metadata": {},
   "outputs": [
    {
     "data": {
      "text/plain": [
       "'PYTHON IS A POPULAR LANGUAGE'"
      ]
     },
     "execution_count": 58,
     "metadata": {},
     "output_type": "execute_result"
    }
   ],
   "source": [
    "sr1.upper()"
   ]
  },
  {
   "cell_type": "code",
   "execution_count": 59,
   "id": "62ddae83",
   "metadata": {},
   "outputs": [
    {
     "data": {
      "text/plain": [
       "'python is a popular language'"
      ]
     },
     "execution_count": 59,
     "metadata": {},
     "output_type": "execute_result"
    }
   ],
   "source": [
    "sr1.lower()"
   ]
  },
  {
   "cell_type": "code",
   "execution_count": 69,
   "id": "8c8dea48",
   "metadata": {},
   "outputs": [
    {
     "data": {
      "text/plain": [
       "'Python is easy'"
      ]
     },
     "execution_count": 69,
     "metadata": {},
     "output_type": "execute_result"
    }
   ],
   "source": [
    "sr3 = \"     Python is easy     \"\n",
    "sr3.strip()"
   ]
  },
  {
   "cell_type": "markdown",
   "id": "5afc5998",
   "metadata": {},
   "source": [
    "** The strip() method removes any leading, and trailing whitespaces.\n",
    "Leading means at the beginning of the string, trailing means at the end.\n",
    "You can specify which character(s) to remove, if not, any whitespaces will be removed."
   ]
  },
  {
   "cell_type": "code",
   "execution_count": 142,
   "id": "53d6637f",
   "metadata": {},
   "outputs": [
    {
     "name": "stdout",
     "output_type": "stream",
     "text": [
      "('Python Programming', 'Francis', '1971')\n"
     ]
    },
    {
     "data": {
      "text/plain": [
       "'Python Programming$Francis$1971'"
      ]
     },
     "execution_count": 142,
     "metadata": {},
     "output_type": "execute_result"
    }
   ],
   "source": [
    "# The join() method takes all items in an sequence and joins them into one string.\n",
    "# A string must be specified as the separator.\n",
    "# Join all items in a tuple into a string, using a dollar character as separator:\n",
    "\n",
    "book3=(\"Python Programming\",\"Francis\", \"1971\")\n",
    "print(book3)\n",
    "separator=\"$\"\n",
    "sr4=separator.join(book3)\n",
    "sr4"
   ]
  },
  {
   "cell_type": "markdown",
   "id": "d0a144b8",
   "metadata": {},
   "source": [
    "## Lesson2"
   ]
  },
  {
   "cell_type": "markdown",
   "id": "ff244771",
   "metadata": {},
   "source": [
    "### # Slide 20 Built in function"
   ]
  },
  {
   "cell_type": "code",
   "execution_count": 113,
   "id": "f943e114",
   "metadata": {},
   "outputs": [
    {
     "data": {
      "text/plain": [
       "[10, 20, 30, 40, 50]"
      ]
     },
     "execution_count": 113,
     "metadata": {},
     "output_type": "execute_result"
    }
   ],
   "source": [
    "# Slide 20 Built in function\n",
    "# list is an iterable/sequence\n",
    "lis=[10,20,30,40,50]\n",
    "lis"
   ]
  },
  {
   "cell_type": "code",
   "execution_count": 114,
   "id": "3abdd409",
   "metadata": {},
   "outputs": [
    {
     "name": "stdout",
     "output_type": "stream",
     "text": [
      "50\n"
     ]
    }
   ],
   "source": [
    "print(max(lis))"
   ]
  },
  {
   "cell_type": "code",
   "execution_count": 115,
   "id": "1aede439",
   "metadata": {},
   "outputs": [
    {
     "name": "stdout",
     "output_type": "stream",
     "text": [
      "10\n"
     ]
    }
   ],
   "source": [
    "print(min(lis))"
   ]
  },
  {
   "cell_type": "code",
   "execution_count": 116,
   "id": "2b5f609d",
   "metadata": {},
   "outputs": [
    {
     "name": "stdout",
     "output_type": "stream",
     "text": [
      "150\n"
     ]
    }
   ],
   "source": [
    "print(sum(lis))"
   ]
  },
  {
   "cell_type": "code",
   "execution_count": 117,
   "id": "b52c2ff8",
   "metadata": {},
   "outputs": [
    {
     "data": {
      "text/plain": [
       "<enumerate at 0x1f16c7b9bc0>"
      ]
     },
     "execution_count": 117,
     "metadata": {},
     "output_type": "execute_result"
    }
   ],
   "source": [
    "en=enumerate(lis, start=0)\n",
    "en"
   ]
  },
  {
   "cell_type": "code",
   "execution_count": 118,
   "id": "bece4333",
   "metadata": {},
   "outputs": [
    {
     "name": "stdout",
     "output_type": "stream",
     "text": [
      "(0, 10)\n",
      "(1, 20)\n",
      "(2, 30)\n",
      "(3, 40)\n",
      "(4, 50)\n"
     ]
    }
   ],
   "source": [
    "for i in en:\n",
    "    print(i)"
   ]
  },
  {
   "cell_type": "markdown",
   "id": "cbda254c",
   "metadata": {},
   "source": [
    "## Conditional statements"
   ]
  },
  {
   "cell_type": "code",
   "execution_count": 98,
   "id": "292496e7",
   "metadata": {},
   "outputs": [],
   "source": [
    "# slide 9 and 10 if statement\n",
    "x=10\n",
    "y=20\n",
    "if (x>y):     # condition is true\n",
    "    print(\"x is greater\")"
   ]
  },
  {
   "cell_type": "code",
   "execution_count": 100,
   "id": "b9b80059",
   "metadata": {},
   "outputs": [
    {
     "name": "stdout",
     "output_type": "stream",
     "text": [
      "y is greater\n",
      "World\n"
     ]
    }
   ],
   "source": [
    "# Slide 11 and 12 if-else\n",
    "x=10\n",
    "y=20\n",
    "if (x>y):     # condition is true\n",
    "    print(\"x is greater\")\n",
    "    print(\"hello\")\n",
    "else:\n",
    "    print(\"y is greater\")\n",
    "    print(\"World\")"
   ]
  },
  {
   "cell_type": "code",
   "execution_count": 144,
   "id": "8157c7ca",
   "metadata": {},
   "outputs": [
    {
     "name": "stdout",
     "output_type": "stream",
     "text": [
      "Enter a number10\n",
      "10 is positive\n"
     ]
    }
   ],
   "source": [
    "# Slide 13 and 14,if elif else\n",
    "num=int(input(\"Enter a number\"))\n",
    "if (num>0):\n",
    "    print(\"{} is positive\".format(num))\n",
    "elif (num<0):\n",
    "    print(\"{} is negative\".format(num))\n",
    "else:\n",
    "    print(print(\"{} is zero\".format(num)))\n",
    "    \n",
    "## Observe the indentation in each of the block of statements"
   ]
  },
  {
   "cell_type": "code",
   "execution_count": 145,
   "id": "ace217d0",
   "metadata": {},
   "outputs": [
    {
     "name": "stdout",
     "output_type": "stream",
     "text": [
      "enter a number10\n",
      "enter a number25\n",
      "enter a number11\n",
      "25 is greatest\n"
     ]
    }
   ],
   "source": [
    "# Slide 15 and 16 nested if \n",
    "# largest of 3 numbers\n",
    "a= int(input(\"enter a number\"))\n",
    "b=int(input(\"enter a number\"))\n",
    "c=int(input(\"enter a number\"))\n",
    "\n",
    "## Both the if and else blocks contain another if-else\n",
    "if (a>b):\n",
    "    if (a>c):\n",
    "        print(\"{} is greatest\".format(a))\n",
    "    else:\n",
    "        print(\"{} is greatest\".format(c))\n",
    "else:\n",
    "    if (b>c):\n",
    "        print(\"{} is greatest\".format(b))\n",
    "    else:\n",
    "        print(\"{} is greatest\".format(c))"
   ]
  },
  {
   "cell_type": "markdown",
   "id": "a6bffbfa",
   "metadata": {},
   "source": [
    "## Functions\n",
    "** A function is a block of code which performs a particular task\n",
    "** built in function print, input()   num=input(\"enter a number)\n",
    "** built in functions list.append(), len(tup), format()\n",
    "\n",
    "** lets see two examples of user defined functions"
   ]
  },
  {
   "cell_type": "code",
   "execution_count": 109,
   "id": "e7707e1b",
   "metadata": {},
   "outputs": [
    {
     "name": "stdout",
     "output_type": "stream",
     "text": [
      "50\n"
     ]
    }
   ],
   "source": [
    "# function which finds the area of a rectangle\n",
    "# Three components of function program\n",
    "\n",
    "def area(len, brd):      # function header  has the name and input paraneters\n",
    "    area=len*brd\n",
    "    print(area)          # body of the function\n",
    "\n",
    "    \n",
    "# Function has to be called\n",
    "area(10, 5)              # function call"
   ]
  },
  {
   "cell_type": "code",
   "execution_count": 112,
   "id": "5b91c0ed",
   "metadata": {},
   "outputs": [
    {
     "name": "stdout",
     "output_type": "stream",
     "text": [
      "25\n"
     ]
    }
   ],
   "source": [
    "# Function definition\n",
    "def squre(x):       # function header\n",
    "    val=x*x\n",
    "    print(val)       #function body\n",
    "    \n",
    "# function call\n",
    "squre(5)"
   ]
  },
  {
   "cell_type": "markdown",
   "id": "61b260d2",
   "metadata": {},
   "source": [
    "## Slide 21 range function\n",
    "* range(n) will give  range from 0 to n-1\n",
    "* range(start, stop)   will range from start to stop-1\n",
    "* range(start,stop, step) will range from start to stop is steps of step"
   ]
  },
  {
   "cell_type": "code",
   "execution_count": 122,
   "id": "a04114c4",
   "metadata": {},
   "outputs": [
    {
     "name": "stdout",
     "output_type": "stream",
     "text": [
      "[0, 1, 2, 3, 4, 5, 6]\n"
     ]
    },
    {
     "data": {
      "text/plain": [
       "[0, 1, 2, 3, 4, 5, 6, 7, 8, 9, 10, 11, 12, 13, 14]"
      ]
     },
     "execution_count": 122,
     "metadata": {},
     "output_type": "execute_result"
    }
   ],
   "source": [
    "# Slide 21\n",
    "range(7)\n",
    "print(list(range(7)))\n",
    "list(range(15))   # it will geberate a list of numbers from 0 to 14"
   ]
  },
  {
   "cell_type": "code",
   "execution_count": 124,
   "id": "caf6c191",
   "metadata": {},
   "outputs": [
    {
     "data": {
      "text/plain": [
       "[10, 11, 12, 13, 14, 15, 16, 17]"
      ]
     },
     "execution_count": 124,
     "metadata": {},
     "output_type": "execute_result"
    }
   ],
   "source": [
    "list(range(5, 10))    # output will be 5,6,7,8,9\n",
    "list(range(10,18))"
   ]
  },
  {
   "cell_type": "code",
   "execution_count": 126,
   "id": "0a784956",
   "metadata": {},
   "outputs": [
    {
     "data": {
      "text/plain": [
       "[5]"
      ]
     },
     "execution_count": 126,
     "metadata": {},
     "output_type": "execute_result"
    }
   ],
   "source": [
    "list(range(5, 50, 5))"
   ]
  },
  {
   "cell_type": "code",
   "execution_count": 127,
   "id": "8386cbe8",
   "metadata": {},
   "outputs": [
    {
     "data": {
      "text/plain": [
       "[5, 10, 15, 20, 25, 30, 35, 40, 45, 50]"
      ]
     },
     "execution_count": 127,
     "metadata": {},
     "output_type": "execute_result"
    }
   ],
   "source": [
    "list(range(5, 51,5))"
   ]
  },
  {
   "cell_type": "markdown",
   "id": "d8b32426",
   "metadata": {},
   "source": [
    "## Local and global scope\n",
    "** Scope of a varibale is teh visibility of the variable\n",
    "** To understand the concept of scope we need to understand fucntions first"
   ]
  },
  {
   "cell_type": "code",
   "execution_count": 150,
   "id": "6ef5d9a9",
   "metadata": {},
   "outputs": [
    {
     "name": "stdout",
     "output_type": "stream",
     "text": [
      "11\n"
     ]
    }
   ],
   "source": [
    "# slide 25 local and global scope\n",
    "def fun1(a,b):\n",
    "    c=a+b;\n",
    "    print(c)\n",
    "    \n",
    "fun1(6,5)  "
   ]
  },
  {
   "cell_type": "code",
   "execution_count": 149,
   "id": "ebcc11dc",
   "metadata": {},
   "outputs": [
    {
     "name": "stdout",
     "output_type": "stream",
     "text": [
      "11\n"
     ]
    },
    {
     "ename": "NameError",
     "evalue": "name 'd' is not defined",
     "output_type": "error",
     "traceback": [
      "\u001b[1;31m---------------------------------------------------------------------------\u001b[0m",
      "\u001b[1;31mNameError\u001b[0m                                 Traceback (most recent call last)",
      "\u001b[1;32m~\\AppData\\Local\\Temp\\ipykernel_10284\\467034683.py\u001b[0m in \u001b[0;36m<module>\u001b[1;34m\u001b[0m\n\u001b[0;32m      6\u001b[0m \u001b[1;33m\u001b[0m\u001b[0m\n\u001b[0;32m      7\u001b[0m \u001b[0mfun1\u001b[0m\u001b[1;33m(\u001b[0m\u001b[1;36m6\u001b[0m\u001b[1;33m,\u001b[0m\u001b[1;36m5\u001b[0m\u001b[1;33m)\u001b[0m\u001b[1;33m\u001b[0m\u001b[1;33m\u001b[0m\u001b[0m\n\u001b[1;32m----> 8\u001b[1;33m \u001b[0mprint\u001b[0m\u001b[1;33m(\u001b[0m\u001b[0md\u001b[0m\u001b[1;33m)\u001b[0m    \u001b[1;31m# error as c is local to fun1()\u001b[0m\u001b[1;33m\u001b[0m\u001b[1;33m\u001b[0m\u001b[0m\n\u001b[0m",
      "\u001b[1;31mNameError\u001b[0m: name 'd' is not defined"
     ]
    }
   ],
   "source": [
    "def fun1(a,b):\n",
    "    d=a+b;     #c=11\n",
    "    print(d)   #print 11   \n",
    "    # the variable c has a local scope\n",
    "    # it is visible only inside teh function\n",
    "     \n",
    "fun1(6,5)\n",
    "print(d)    # error as d is local to fun1()"
   ]
  },
  {
   "cell_type": "code",
   "execution_count": 151,
   "id": "7b83c64a",
   "metadata": {},
   "outputs": [
    {
     "name": "stdout",
     "output_type": "stream",
     "text": [
      "11\n",
      "25\n"
     ]
    }
   ],
   "source": [
    "def fun1(a,b):\n",
    "    c=a+b;     #c=11\n",
    "    print(c)   #print 11   \n",
    "    # the variable c has a local scope\n",
    "    # it is visible only inside teh function\n",
    "     \n",
    "fun1(6,5)\n",
    "c=25     #global c\n",
    "print(c)\n",
    "\n",
    "# how a function call works"
   ]
  },
  {
   "cell_type": "code",
   "execution_count": 132,
   "id": "720443ce",
   "metadata": {},
   "outputs": [
    {
     "name": "stdout",
     "output_type": "stream",
     "text": [
      "25\n",
      "25\n"
     ]
    }
   ],
   "source": [
    "def fun1(a,b):\n",
    "    #c=a+b;     #c=11\n",
    "    print(c)   #print 11\n",
    "    \n",
    "c=25    \n",
    "fun1(6,5)\n",
    "print(c)\n",
    "\n",
    "# global c is available inside the fucntion also"
   ]
  },
  {
   "cell_type": "code",
   "execution_count": 152,
   "id": "a54cdc3e",
   "metadata": {},
   "outputs": [
    {
     "name": "stdout",
     "output_type": "stream",
     "text": [
      "11\n",
      "25\n"
     ]
    }
   ],
   "source": [
    "def fun1(a,b):\n",
    "    c=a+b;     #c=11\n",
    "    print(c)   #print 11\n",
    "    \n",
    "c=25    \n",
    "fun1(6,5)\n",
    "print(c)\n",
    "\n",
    "# here inside the function we see the local c=11\n",
    "# outside the function we see the global c=25"
   ]
  },
  {
   "cell_type": "code",
   "execution_count": null,
   "id": "a1f3aa20",
   "metadata": {},
   "outputs": [],
   "source": [
    "## end of session on 5th and 6th July"
   ]
  },
  {
   "cell_type": "code",
   "execution_count": null,
   "id": "13b52950",
   "metadata": {},
   "outputs": [],
   "source": []
  }
 ],
 "metadata": {
  "kernelspec": {
   "display_name": "Python 3 (ipykernel)",
   "language": "python",
   "name": "python3"
  },
  "language_info": {
   "codemirror_mode": {
    "name": "ipython",
    "version": 3
   },
   "file_extension": ".py",
   "mimetype": "text/x-python",
   "name": "python",
   "nbconvert_exporter": "python",
   "pygments_lexer": "ipython3",
   "version": "3.9.13"
  }
 },
 "nbformat": 4,
 "nbformat_minor": 5
}
